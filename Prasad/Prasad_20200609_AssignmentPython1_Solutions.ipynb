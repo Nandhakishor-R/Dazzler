{
 "cells": [
  {
   "cell_type": "code",
   "execution_count": 1,
   "metadata": {},
   "outputs": [
    {
     "name": "stdout",
     "output_type": "stream",
     "text": [
      "6 18\n"
     ]
    }
   ],
   "source": [
    "#output\n",
    "s1='Gaurav'\n",
    "s2='tutor.py@gmail.com'\n",
    "print(len(s1), len(s2))"
   ]
  },
  {
   "cell_type": "code",
   "execution_count": 2,
   "metadata": {},
   "outputs": [
    {
     "name": "stdout",
     "output_type": "stream",
     "text": [
      "hello world\n",
      "11\n"
     ]
    }
   ],
   "source": [
    "#WAP to input a string and print its length.\n",
    "s = input()\n",
    "print(len(s))"
   ]
  },
  {
   "cell_type": "code",
   "execution_count": 12,
   "metadata": {},
   "outputs": [
    {
     "name": "stdout",
     "output_type": "stream",
     "text": [
      "Enter first Number :2\n",
      "2\n",
      "Enter second Number :6\n",
      "6\n",
      "Sum of numbers is :  8\n",
      "Diff of numbers is :  -4\n"
     ]
    }
   ],
   "source": [
    "#WAP to input 2 numbers and print their sum and difference.\n",
    "s1 = input(\"Enter first Number :\")\n",
    "val1 = int(s1)\n",
    "print(val1)\n",
    "\n",
    "s1 = input(\"Enter second Number :\")\n",
    "val2 = int(s1)\n",
    "print(val2)\n",
    "\n",
    "print(\"Sum of numbers is : \", val1+val2)\n",
    "print(\"Diff of numbers is : \", val1-val2)"
   ]
  },
  {
   "cell_type": "code",
   "execution_count": 13,
   "metadata": {},
   "outputs": [
    {
     "name": "stdout",
     "output_type": "stream",
     "text": [
      "abde\n"
     ]
    }
   ],
   "source": [
    "#Predict output\n",
    "s1='ab'\n",
    "s2='de'\n",
    "s3=s1+s2\n",
    "print(s3)"
   ]
  },
  {
   "cell_type": "code",
   "execution_count": 14,
   "metadata": {},
   "outputs": [
    {
     "name": "stdout",
     "output_type": "stream",
     "text": [
      "abababab\n"
     ]
    }
   ],
   "source": [
    "s1 = 'ab' * 4\n",
    "print(s1)"
   ]
  },
  {
   "cell_type": "code",
   "execution_count": 15,
   "metadata": {},
   "outputs": [
    {
     "name": "stdout",
     "output_type": "stream",
     "text": [
      "ab\n",
      "ab\n",
      "ab\n",
      "ab\n",
      "\n"
     ]
    }
   ],
   "source": [
    "s1 = 'ab\\n' * 4\n",
    "print(s1)"
   ]
  },
  {
   "cell_type": "code",
   "execution_count": 27,
   "metadata": {
    "scrolled": true
   },
   "outputs": [
    {
     "name": "stdout",
     "output_type": "stream",
     "text": [
      "Enter Input String :Test\n",
      "Test\n",
      "Enter repeat Number :2\n",
      "2\n",
      "Test\n",
      "Test\n",
      "\n"
     ]
    }
   ],
   "source": [
    "#WAP to input a string s and a number n. Print the string n times on the screen, each should\n",
    "#appear in a separate line (do not use any kind of loops, use the multiplication operator).\n",
    "str1 = input(\"Enter Input String :\")\n",
    "print(str1)\n",
    "str1= str1 + '\\n'\n",
    "\n",
    "num1 = input(\"Enter repeat Number :\")\n",
    "val1 = int(num1)\n",
    "print(val1)\n",
    "\n",
    "print(str1 * val1)"
   ]
  },
  {
   "cell_type": "code",
   "execution_count": 28,
   "metadata": {},
   "outputs": [
    {
     "name": "stdout",
     "output_type": "stream",
     "text": [
      "Gaurav\n",
      "None\n"
     ]
    }
   ],
   "source": [
    "res = print('Gaurav')\n",
    "print(res)"
   ]
  },
  {
   "cell_type": "code",
   "execution_count": 30,
   "metadata": {},
   "outputs": [
    {
     "name": "stdout",
     "output_type": "stream",
     "text": [
      "<class 'int'>\n"
     ]
    }
   ],
   "source": [
    "res = len('teuter.py@gmail.com')\n",
    "print(type(res))"
   ]
  },
  {
   "cell_type": "code",
   "execution_count": 32,
   "metadata": {},
   "outputs": [
    {
     "name": "stdout",
     "output_type": "stream",
     "text": [
      "<class 'str'>\n",
      "26\n"
     ]
    }
   ],
   "source": [
    "s1 = 'Gaurav'\n",
    "s2 = 'teuter.py@gmail.com'\n",
    "s3 = s1 + '\\n'+ s2\n",
    "print(type(s3))\n",
    "print(len(s3))\n"
   ]
  },
  {
   "cell_type": "code",
   "execution_count": 36,
   "metadata": {},
   "outputs": [
    {
     "name": "stdout",
     "output_type": "stream",
     "text": [
      "Enter Number :5\n",
      "5\n",
      "2\n",
      "2.23606797749979\n"
     ]
    }
   ],
   "source": [
    "# Find the name of function to find the square root. (see all the options available in dir() of math)\n",
    "# WAP to input a number and print its square root ().\n",
    "import math\n",
    "num1 = input(\"Enter Number :\")\n",
    "val1 = int(num1)\n",
    "print(val1)\n",
    "print(math.isqrt(val1)) # gives integer square root value\n",
    "print(math.sqrt(val1)) # gives actual square root value\n"
   ]
  },
  {
   "cell_type": "code",
   "execution_count": 39,
   "metadata": {},
   "outputs": [
    {
     "name": "stdout",
     "output_type": "stream",
     "text": [
      "Enter Number1 :1\n",
      "Enter Number2 :2\n",
      "Enter Number3 :3\n",
      "Enter Number4 :4\n",
      "1\n",
      "2\n",
      "3\n",
      "4\n",
      "2.5\n"
     ]
    }
   ],
   "source": [
    "#WAP to input 4 numbers from user and print their average\n",
    "\n",
    "import math\n",
    "\n",
    "#Approach 1\n",
    "num1 = input(\"Enter Number1 :\")\n",
    "val1 = int(num1)\n",
    "\n",
    "num1 = input(\"Enter Number2 :\")\n",
    "val2 = int(num1)\n",
    "\n",
    "num1 = input(\"Enter Number3 :\")\n",
    "val3 = int(num1)\n",
    "\n",
    "num1 = input(\"Enter Number4 :\")\n",
    "val4 = int(num1)\n",
    "\n",
    "print(val1)\n",
    "print(val2)\n",
    "print(val3)\n",
    "print(val4)\n",
    "\n",
    "\n",
    "print((val1+val2+val3+val4)/4)\n",
    "\n",
    "\n",
    "\n",
    "#Approach 2\n",
    "\n",
    "\n"
   ]
  },
  {
   "cell_type": "code",
   "execution_count": 44,
   "metadata": {},
   "outputs": [
    {
     "name": "stdout",
     "output_type": "stream",
     "text": [
      "1\n"
     ]
    }
   ],
   "source": [
    "#Use the help function to check what the abs function in python does\n",
    "s1 = -1\n",
    "print(abs(s1))"
   ]
  },
  {
   "cell_type": "code",
   "execution_count": 45,
   "metadata": {},
   "outputs": [
    {
     "name": "stdout",
     "output_type": "stream",
     "text": [
      "__main__\n"
     ]
    }
   ],
   "source": [
    "print(__name__)"
   ]
  },
  {
   "cell_type": "code",
   "execution_count": 48,
   "metadata": {
    "scrolled": true
   },
   "outputs": [
    {
     "name": "stdout",
     "output_type": "stream",
     "text": [
      "['__abs__', '__add__', '__and__', '__bool__', '__ceil__', '__class__', '__delattr__', '__dir__', '__divmod__', '__doc__', '__eq__', '__float__', '__floor__', '__floordiv__', '__format__', '__ge__', '__getattribute__', '__getnewargs__', '__gt__', '__hash__', '__index__', '__init__', '__init_subclass__', '__int__', '__invert__', '__le__', '__lshift__', '__lt__', '__mod__', '__mul__', '__ne__', '__neg__', '__new__', '__or__', '__pos__', '__pow__', '__radd__', '__rand__', '__rdivmod__', '__reduce__', '__reduce_ex__', '__repr__', '__rfloordiv__', '__rlshift__', '__rmod__', '__rmul__', '__ror__', '__round__', '__rpow__', '__rrshift__', '__rshift__', '__rsub__', '__rtruediv__', '__rxor__', '__setattr__', '__sizeof__', '__str__', '__sub__', '__subclasshook__', '__truediv__', '__trunc__', '__xor__', 'as_integer_ratio', 'bit_length', 'conjugate', 'denominator', 'from_bytes', 'imag', 'numerator', 'real', 'to_bytes']\n",
      "No\n"
     ]
    }
   ],
   "source": [
    "num1 = 1\n",
    "print(dir(num1))\n",
    "print(\"No\")"
   ]
  },
  {
   "cell_type": "code",
   "execution_count": 49,
   "metadata": {},
   "outputs": [
    {
     "name": "stdout",
     "output_type": "stream",
     "text": [
      "__main__\n",
      "builtins\n",
      "int\n"
     ]
    }
   ],
   "source": [
    "print(__name__)\n",
    "print(__builtin__.__name__)\n",
    "print(int.__name__)"
   ]
  },
  {
   "cell_type": "code",
   "execution_count": null,
   "metadata": {},
   "outputs": [],
   "source": []
  }
 ],
 "metadata": {
  "kernelspec": {
   "display_name": "Python 3",
   "language": "python",
   "name": "python3"
  },
  "language_info": {
   "codemirror_mode": {
    "name": "ipython",
    "version": 3
   },
   "file_extension": ".py",
   "mimetype": "text/x-python",
   "name": "python",
   "nbconvert_exporter": "python",
   "pygments_lexer": "ipython3",
   "version": "3.8.3"
  }
 },
 "nbformat": 4,
 "nbformat_minor": 4
}
