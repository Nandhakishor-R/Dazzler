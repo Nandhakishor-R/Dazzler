{
 "cells": [
  {
   "cell_type": "markdown",
   "metadata": {},
   "source": [
    "## 1. Guess output of each slice:\n",
    "### s=‘Python is Object Oriented’\n",
    "#### 1. s[-1] 2. s[::-1] 3. s[:-1] 4. s[1:1] 5. s[4:10]"
   ]
  },
  {
   "cell_type": "code",
   "execution_count": 1,
   "metadata": {},
   "outputs": [],
   "source": [
    "#Sol: 1.'d' 2. 'detneirO tcejbO si nohtyP' 3. 'Python is Object Oriente' 4. '' 5. 'on is '"
   ]
  },
  {
   "cell_type": "markdown",
   "metadata": {},
   "source": [
    "## 2. What error do you see for following statements:\n",
    "#### s= ‘’\n",
    "#### print(s[1])"
   ]
  },
  {
   "cell_type": "code",
   "execution_count": 2,
   "metadata": {},
   "outputs": [],
   "source": [
    "# IndexError"
   ]
  },
  {
   "cell_type": "markdown",
   "metadata": {},
   "source": [
    "## 3.Do you get any error for the following code, if not give the output:\n",
    "#### S=‘Gaurav’\n",
    "#### print(s[1])"
   ]
  },
  {
   "cell_type": "code",
   "execution_count": 3,
   "metadata": {},
   "outputs": [],
   "source": [
    "# NameError: name 's' is not defined"
   ]
  },
  {
   "cell_type": "markdown",
   "metadata": {},
   "source": [
    "## 4. Find output of the following:\n",
    "#### a) s='a b cd'\n",
    "#### print(len(s))\n",
    "#### print(s[::2])\n",
    "#### print(len(s[::2]))"
   ]
  },
  {
   "cell_type": "code",
   "execution_count": 4,
   "metadata": {},
   "outputs": [
    {
     "data": {
      "text/plain": [
       "'\\nSol:\\n6\\nabc\\n3\\n'"
      ]
     },
     "execution_count": 4,
     "metadata": {},
     "output_type": "execute_result"
    }
   ],
   "source": [
    "\"\"\"\n",
    "Sol:\n",
    "6\n",
    "abc\n",
    "3\n",
    "\"\"\""
   ]
  },
  {
   "cell_type": "markdown",
   "metadata": {},
   "source": [
    "#### b) s=‘a#b#c#d#’\n",
    "#### print(s.split())\n",
    "#### print(s.split(‘#’))\n",
    "#### l=s.split(‘#’)\n",
    "#### s=‘$’.join(l)\n",
    "#### print(s)"
   ]
  },
  {
   "cell_type": "code",
   "execution_count": 5,
   "metadata": {},
   "outputs": [
    {
     "data": {
      "text/plain": [
       "\"\\nSol:\\n['a#b#c#d#']\\n['a', 'b', 'c', 'd', '']\\na$b$c$d$\\n\""
      ]
     },
     "execution_count": 5,
     "metadata": {},
     "output_type": "execute_result"
    }
   ],
   "source": [
    "\"\"\"\n",
    "Sol:\n",
    "['a#b#c#d#']\n",
    "['a', 'b', 'c', 'd', '']\n",
    "a$b$c$d$\n",
    "\"\"\""
   ]
  },
  {
   "cell_type": "markdown",
   "metadata": {},
   "source": [
    "#### c) S=‘Gaurav’\n",
    "#### S=S[::-2][::-2]\n",
    "#### print(S)"
   ]
  },
  {
   "cell_type": "code",
   "execution_count": 6,
   "metadata": {},
   "outputs": [],
   "source": [
    "# av"
   ]
  },
  {
   "cell_type": "markdown",
   "metadata": {},
   "source": [
    "#### d) print(1>2)"
   ]
  },
  {
   "cell_type": "code",
   "execution_count": 7,
   "metadata": {},
   "outputs": [],
   "source": [
    "# False"
   ]
  },
  {
   "cell_type": "markdown",
   "metadata": {},
   "source": [
    "#### e) print(4%2, 5%2, 2%5, sep=‘, ’)"
   ]
  },
  {
   "cell_type": "code",
   "execution_count": 8,
   "metadata": {},
   "outputs": [],
   "source": [
    "# 0, 1, 2"
   ]
  },
  {
   "cell_type": "markdown",
   "metadata": {},
   "source": [
    "#### f) s=‘abcba’\n",
    "#### s.upper()\n",
    "#### print(s)\n",
    "#### print(s.count(‘A’), end = ‘ ,’)\n",
    "#### print(s.count(‘A’, 2,4) , end = ‘ ,’)\n",
    "#### print(s.count(‘a’, 2,4) , end = ‘ ,’)"
   ]
  },
  {
   "cell_type": "code",
   "execution_count": 9,
   "metadata": {},
   "outputs": [
    {
     "data": {
      "text/plain": [
       "'\\nSol:\\nabcba\\n0 ,0 ,0 ,\\n'"
      ]
     },
     "execution_count": 9,
     "metadata": {},
     "output_type": "execute_result"
    }
   ],
   "source": [
    "\"\"\"\n",
    "Sol:\n",
    "abcba\n",
    "0 ,0 ,0 ,\n",
    "\"\"\""
   ]
  },
  {
   "cell_type": "markdown",
   "metadata": {},
   "source": [
    "## 5. WAP to input a string and remove all spaces from it."
   ]
  },
  {
   "cell_type": "code",
   "execution_count": 11,
   "metadata": {},
   "outputs": [
    {
     "name": "stdout",
     "output_type": "stream",
     "text": [
      "['__add__', '__class__', '__contains__', '__delattr__', '__dir__', '__doc__', '__eq__', '__format__', '__ge__', '__getattribute__', '__getitem__', '__getnewargs__', '__gt__', '__hash__', '__init__', '__init_subclass__', '__iter__', '__le__', '__len__', '__lt__', '__mod__', '__mul__', '__ne__', '__new__', '__reduce__', '__reduce_ex__', '__repr__', '__rmod__', '__rmul__', '__setattr__', '__sizeof__', '__str__', '__subclasshook__', 'capitalize', 'casefold', 'center', 'count', 'encode', 'endswith', 'expandtabs', 'find', 'format', 'format_map', 'index', 'isalnum', 'isalpha', 'isascii', 'isdecimal', 'isdigit', 'isidentifier', 'islower', 'isnumeric', 'isprintable', 'isspace', 'istitle', 'isupper', 'join', 'ljust', 'lower', 'lstrip', 'maketrans', 'partition', 'replace', 'rfind', 'rindex', 'rjust', 'rpartition', 'rsplit', 'rstrip', 'split', 'splitlines', 'startswith', 'strip', 'swapcase', 'title', 'translate', 'upper', 'zfill']\n",
      "Help on built-in function replace:\n",
      "\n",
      "replace(old, new, count=-1, /) method of builtins.str instance\n",
      "    Return a copy with all occurrences of substring old replaced by new.\n",
      "    \n",
      "      count\n",
      "        Maximum number of occurrences to replace.\n",
      "        -1 (the default value) means replace all occurrences.\n",
      "    \n",
      "    If the optional argument count is given, only the first count occurrences are\n",
      "    replaced.\n",
      "\n"
     ]
    }
   ],
   "source": [
    "print(dir(''))\n",
    "help(''.replace)"
   ]
  },
  {
   "cell_type": "code",
   "execution_count": 12,
   "metadata": {},
   "outputs": [
    {
     "name": "stdout",
     "output_type": "stream",
     "text": [
      "Enter a string with spaces: ndcm,bsc     bc,s        bca,cs      bc,sHwe\n",
      "ndcm,bscbc,sbca,csbc,sHwe\n"
     ]
    }
   ],
   "source": [
    "s = input(\"Enter a string with spaces: \")\n",
    "s = s.replace(' ','')\n",
    "print(s)"
   ]
  },
  {
   "cell_type": "markdown",
   "metadata": {},
   "source": [
    "## 6. What does this symbol denote:\n",
    "#### []"
   ]
  },
  {
   "cell_type": "code",
   "execution_count": 13,
   "metadata": {},
   "outputs": [],
   "source": [
    "# An empty list"
   ]
  },
  {
   "cell_type": "markdown",
   "metadata": {},
   "source": [
    "## 7. WAP to print all methods(functions/operations) available in a string (Hint : dir())"
   ]
  },
  {
   "cell_type": "code",
   "execution_count": 14,
   "metadata": {},
   "outputs": [
    {
     "name": "stdout",
     "output_type": "stream",
     "text": [
      "['__add__', '__class__', '__contains__', '__delattr__', '__dir__', '__doc__', '__eq__', '__format__', '__ge__', '__getattribute__', '__getitem__', '__getnewargs__', '__gt__', '__hash__', '__init__', '__init_subclass__', '__iter__', '__le__', '__len__', '__lt__', '__mod__', '__mul__', '__ne__', '__new__', '__reduce__', '__reduce_ex__', '__repr__', '__rmod__', '__rmul__', '__setattr__', '__sizeof__', '__str__', '__subclasshook__', 'capitalize', 'casefold', 'center', 'count', 'encode', 'endswith', 'expandtabs', 'find', 'format', 'format_map', 'index', 'isalnum', 'isalpha', 'isascii', 'isdecimal', 'isdigit', 'isidentifier', 'islower', 'isnumeric', 'isprintable', 'isspace', 'istitle', 'isupper', 'join', 'ljust', 'lower', 'lstrip', 'maketrans', 'partition', 'replace', 'rfind', 'rindex', 'rjust', 'rpartition', 'rsplit', 'rstrip', 'split', 'splitlines', 'startswith', 'strip', 'swapcase', 'title', 'translate', 'upper', 'zfill']\n"
     ]
    }
   ],
   "source": [
    "print(dir(''))"
   ]
  },
  {
   "cell_type": "markdown",
   "metadata": {},
   "source": [
    "## 8. Write statement to check if rstrip method is available in the str class.\n",
    "#### (Hint : Use the find function or in)"
   ]
  },
  {
   "cell_type": "code",
   "execution_count": 15,
   "metadata": {},
   "outputs": [
    {
     "data": {
      "text/plain": [
       "True"
      ]
     },
     "execution_count": 15,
     "metadata": {},
     "output_type": "execute_result"
    }
   ],
   "source": [
    "'rstrip' in dir('')"
   ]
  },
  {
   "cell_type": "markdown",
   "metadata": {},
   "source": [
    "## 9. WAP to store the following patterns in a string variable and then print them:"
   ]
  },
  {
   "cell_type": "code",
   "execution_count": 16,
   "metadata": {},
   "outputs": [
    {
     "name": "stdout",
     "output_type": "stream",
     "text": [
      "*****\n",
      "  *\n",
      "  *\n",
      "  *\n",
      "  *\n",
      "\n",
      "*     *\n",
      "* * * * \n",
      "*  *  *\n",
      "*     *\n",
      "\n",
      "  ______\n",
      "  |     |\n",
      "  O     |\n",
      " /|\\    |\n",
      " / \\    |\n",
      "________|\n",
      "\n"
     ]
    }
   ],
   "source": [
    "pattern1 = \"\"\"*****\n",
    "  *\n",
    "  *\n",
    "  *\n",
    "  *\n",
    "\"\"\"\n",
    "\n",
    "pattern2 = \"\"\"*     *\n",
    "* * * * \n",
    "*  *  *\n",
    "*     *\n",
    "\"\"\"\n",
    "\n",
    "pattern3 = \"\"\"  ______\n",
    "  |     |\n",
    "  O     |\n",
    " /|\\    |\n",
    " / \\    |\n",
    "________|\n",
    "\"\"\"\n",
    "\n",
    "print(pattern1)\n",
    "print(pattern2)\n",
    "print(pattern3)"
   ]
  },
  {
   "cell_type": "markdown",
   "metadata": {},
   "source": [
    "## 10. WAP to input a string and replace all space with new lines (\\n) and print again."
   ]
  },
  {
   "cell_type": "code",
   "execution_count": 17,
   "metadata": {},
   "outputs": [
    {
     "name": "stdout",
     "output_type": "stream",
     "text": [
      "Enter a string with spaces: ahjbxb bcxj bn kj nkk\n",
      "Original string:  ahjbxb bcxj bn kj nkk\n",
      "Updated string:  ahjbxb\n",
      "bcxj\n",
      "bn\n",
      "kj\n",
      "nkk\n"
     ]
    }
   ],
   "source": [
    "s = input(\"Enter a string with spaces: \")\n",
    "print(\"Original string: \",s)\n",
    "s = s.replace(' ','\\n')\n",
    "print(\"Updated string: \",s)"
   ]
  },
  {
   "cell_type": "markdown",
   "metadata": {},
   "source": [
    "## 11. WAP to input complete name(first and last name separated by space) and print first and last name separately along with their length in upper case."
   ]
  },
  {
   "cell_type": "code",
   "execution_count": 18,
   "metadata": {},
   "outputs": [
    {
     "name": "stdout",
     "output_type": "stream",
     "text": [
      "Enter your full name: Pallavi Saxena\n",
      "PALLAVI 7\n",
      "SAXENA 6\n"
     ]
    }
   ],
   "source": [
    "name = input(\"Enter your full name: \")\n",
    "first, last = name.split()\n",
    "print(first.upper(), len(first))\n",
    "print(last.upper(), len(last))"
   ]
  },
  {
   "cell_type": "markdown",
   "metadata": {},
   "source": [
    "## 12. WAP to input a string and split it into 2 halves. The string can be of any length\n",
    "#### Ex-1: Input = “String”\n",
    "#### S1 = Str\n",
    "#### S2 = ing\n",
    "#### Ex-2: Input = “words”\n",
    "#### S1 = wo\n",
    "#### S2 = ds"
   ]
  },
  {
   "cell_type": "code",
   "execution_count": 19,
   "metadata": {},
   "outputs": [
    {
     "name": "stdout",
     "output_type": "stream",
     "text": [
      "Enter a string: String\n",
      "First Half:  Str\n",
      "Last Half:  ing\n"
     ]
    }
   ],
   "source": [
    "s = input(\"Enter a string: \")\n",
    "fisrt_half = s[:(len(s)//2)]\n",
    "last_half = s[(len(s)//2 if len(s)%2==0 else (len(s)//2)+1):]\n",
    "print(\"First Half: \", fisrt_half)\n",
    "print(\"Last Half: \", last_half)"
   ]
  },
  {
   "cell_type": "code",
   "execution_count": 20,
   "metadata": {},
   "outputs": [
    {
     "name": "stdout",
     "output_type": "stream",
     "text": [
      "Enter a string: words\n",
      "First Half:  wo\n",
      "Last Half:  ds\n"
     ]
    }
   ],
   "source": [
    "s = input(\"Enter a string: \")\n",
    "fisrt_half = s[:(len(s)//2)]\n",
    "last_half = s[(len(s)//2 if len(s)%2==0 else (len(s)//2)+1):]\n",
    "print(\"First Half: \", fisrt_half)\n",
    "print(\"Last Half: \", last_half)"
   ]
  },
  {
   "cell_type": "code",
   "execution_count": null,
   "metadata": {},
   "outputs": [],
   "source": []
  }
 ],
 "metadata": {
  "kernelspec": {
   "display_name": "Python 3",
   "language": "python",
   "name": "python3"
  },
  "language_info": {
   "codemirror_mode": {
    "name": "ipython",
    "version": 3
   },
   "file_extension": ".py",
   "mimetype": "text/x-python",
   "name": "python",
   "nbconvert_exporter": "python",
   "pygments_lexer": "ipython3",
   "version": "3.7.6"
  }
 },
 "nbformat": 4,
 "nbformat_minor": 4
}
