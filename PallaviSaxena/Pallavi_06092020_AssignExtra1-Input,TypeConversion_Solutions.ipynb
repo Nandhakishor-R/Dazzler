{
 "cells": [
  {
   "cell_type": "markdown",
   "metadata": {},
   "source": [
    "## 1. Input temperature in Fahrenheit in print in Celsius."
   ]
  },
  {
   "cell_type": "code",
   "execution_count": 1,
   "metadata": {},
   "outputs": [
    {
     "name": "stdout",
     "output_type": "stream",
     "text": [
      "Enter temperature in Fahrenheit: 212\n",
      "Enter temperature in Celsius:  100.0\n"
     ]
    }
   ],
   "source": [
    "f_temp = float(input(\"Enter temperature in Fahrenheit: \"))\n",
    "c_temp = (f_temp - 32) * 5 / 9\n",
    "print(\"Enter temperature in Celsius: \", c_temp)"
   ]
  },
  {
   "cell_type": "markdown",
   "metadata": {},
   "source": [
    "## 2. Write a program to input a number and print its square and cube."
   ]
  },
  {
   "cell_type": "code",
   "execution_count": 2,
   "metadata": {},
   "outputs": [
    {
     "name": "stdout",
     "output_type": "stream",
     "text": [
      "Enter a number: 4\n",
      "Its square:  16\n",
      "Its cube:  64\n"
     ]
    }
   ],
   "source": [
    "num = int(input(\"Enter a number: \"))\n",
    "print(\"Its square: \", num ** 2)\n",
    "print(\"Its cube: \", num ** 3)"
   ]
  },
  {
   "cell_type": "markdown",
   "metadata": {},
   "source": [
    "## 3. WAP to input a number n and a number m and print the result of following\n",
    "#### n2 + m2"
   ]
  },
  {
   "cell_type": "code",
   "execution_count": 3,
   "metadata": {},
   "outputs": [
    {
     "name": "stdout",
     "output_type": "stream",
     "text": [
      "Enter a number n: 8\n",
      "Enter a number m: 12\n",
      "Its square:  208\n"
     ]
    }
   ],
   "source": [
    "n = int(input(\"Enter a number n: \"))\n",
    "m = int(input(\"Enter a number m: \"))\n",
    "print(\"Its square: \", n ** 2 + m ** 2)"
   ]
  },
  {
   "cell_type": "markdown",
   "metadata": {},
   "source": [
    "## 4. WAP to input a numbers M and N and print result of MN. (use both ** and pow)"
   ]
  },
  {
   "cell_type": "code",
   "execution_count": 4,
   "metadata": {},
   "outputs": [
    {
     "name": "stdout",
     "output_type": "stream",
     "text": [
      "Enter a number m: 2\n",
      "Enter a number n: 8\n",
      "Using **:  256\n",
      "Using pow():  256\n"
     ]
    }
   ],
   "source": [
    "m = int(input(\"Enter a number m: \"))\n",
    "n = int(input(\"Enter a number n: \"))\n",
    "print(\"Using **: \", m ** n)\n",
    "print(\"Using pow(): \", pow(m, n))"
   ]
  },
  {
   "cell_type": "markdown",
   "metadata": {},
   "source": [
    "## 5. Write a simple interest calculator."
   ]
  },
  {
   "cell_type": "code",
   "execution_count": 5,
   "metadata": {},
   "outputs": [
    {
     "name": "stdout",
     "output_type": "stream",
     "text": [
      "Enter Principal: 100\n",
      "Enter Rate: 10\n",
      "Enter Time: 5\n",
      "Simple Interest:  50.0\n"
     ]
    }
   ],
   "source": [
    "p = float(input(\"Enter Principal: \"))\n",
    "r = float(input(\"Enter Rate: \"))\n",
    "t = float(input(\"Enter Time: \"))\n",
    "si = p * r * t / 100\n",
    "print(\"Simple Interest: \", si)"
   ]
  },
  {
   "cell_type": "markdown",
   "metadata": {},
   "source": [
    "## 6. Input Principal, Rate, Time and print Compound Interest and Amount."
   ]
  },
  {
   "cell_type": "code",
   "execution_count": 6,
   "metadata": {},
   "outputs": [
    {
     "name": "stdout",
     "output_type": "stream",
     "text": [
      "Enter Principal: 100\n",
      "Enter Rate: 10\n",
      "Enter Time: 5\n",
      "Compound Interest:  61.051000000000045\n",
      "Amount:  161.05100000000004\n"
     ]
    }
   ],
   "source": [
    "p = float(input(\"Enter Principal: \"))\n",
    "r = float(input(\"Enter Rate: \"))\n",
    "t = float(input(\"Enter Time: \"))\n",
    "a = p * pow(1 + r * 0.01, t)\n",
    "ci = a - p\n",
    "print(\"Compound Interest: \", ci)\n",
    "print(\"Amount: \", a)"
   ]
  },
  {
   "cell_type": "markdown",
   "metadata": {},
   "source": [
    "## 7. WAP to print sum of first n natural numbers. (n needs to be taken as input)."
   ]
  },
  {
   "cell_type": "code",
   "execution_count": 8,
   "metadata": {},
   "outputs": [
    {
     "name": "stdout",
     "output_type": "stream",
     "text": [
      "Enter a natural number: 10\n",
      "Sum of first n natural numbers:  55\n"
     ]
    }
   ],
   "source": [
    "n = int(input(\"Enter a natural number: \"))\n",
    "s = n * (n + 1) / 2\n",
    "print(\"Sum of first n natural numbers: \", int(s))"
   ]
  },
  {
   "cell_type": "markdown",
   "metadata": {},
   "source": [
    "## 8. WAP to input 2 numbers and swap them. (write using both normal logic with temp variable and also the pythonic way)."
   ]
  },
  {
   "cell_type": "code",
   "execution_count": 9,
   "metadata": {},
   "outputs": [
    {
     "name": "stdout",
     "output_type": "stream",
     "text": [
      "Enter a number a: 3\n",
      "Enter a number b: 8\n",
      "a & b before swap:  3 8\n",
      "a & b after swap:  8 3\n"
     ]
    }
   ],
   "source": [
    "#Normal logic with temp variable\n",
    "a = int(input(\"Enter a number a: \"))\n",
    "b = int(input(\"Enter a number b: \"))\n",
    "print(\"a & b before swap: \", a, b)\n",
    "temp = a\n",
    "a = b\n",
    "b = temp\n",
    "print(\"a & b after swap: \", a, b)"
   ]
  },
  {
   "cell_type": "code",
   "execution_count": 10,
   "metadata": {},
   "outputs": [
    {
     "name": "stdout",
     "output_type": "stream",
     "text": [
      "Enter a number a: 17\n",
      "Enter a number b: 21\n",
      "a & b before swap:  17 21\n",
      "a & b after swap:  21 17\n"
     ]
    }
   ],
   "source": [
    "#The pythonic way\n",
    "a = int(input(\"Enter a number a: \"))\n",
    "b = int(input(\"Enter a number b: \"))\n",
    "print(\"a & b before swap: \", a, b)\n",
    "b, a = a, b\n",
    "print(\"a & b after swap: \", a, b)"
   ]
  },
  {
   "cell_type": "markdown",
   "metadata": {},
   "source": [
    "## 9. WAP to print ascii value of all white-space characters present in python."
   ]
  },
  {
   "cell_type": "code",
   "execution_count": 15,
   "metadata": {},
   "outputs": [
    {
     "name": "stdout",
     "output_type": "stream",
     "text": [
      "10\n",
      "9\n",
      "13\n",
      "8\n",
      "12\n",
      "7\n",
      "11\n"
     ]
    }
   ],
   "source": [
    "print(ord(\"\\n\"))\n",
    "print(ord(\"\\t\"))\n",
    "print(ord(\"\\r\"))\n",
    "print(ord(\"\\b\"))\n",
    "print(ord(\"\\f\"))\n",
    "print(ord(\"\\a\"))\n",
    "print(ord(\"\\v\"))"
   ]
  },
  {
   "cell_type": "markdown",
   "metadata": {},
   "source": [
    "## 10. Input a single character and print its ascii values."
   ]
  },
  {
   "cell_type": "code",
   "execution_count": 16,
   "metadata": {},
   "outputs": [
    {
     "name": "stdout",
     "output_type": "stream",
     "text": [
      "Enter a single character: x\n",
      "Its ascii character:  120\n"
     ]
    }
   ],
   "source": [
    "a = input(\"Enter a single character: \")\n",
    "print(\"Its ascii character: \", ord(a))"
   ]
  },
  {
   "cell_type": "markdown",
   "metadata": {},
   "source": [
    "## 11. WAP that takes area of a circle and gives back the radius and circumference."
   ]
  },
  {
   "cell_type": "code",
   "execution_count": 17,
   "metadata": {},
   "outputs": [
    {
     "name": "stdout",
     "output_type": "stream",
     "text": [
      "Enter area of circle: 100\n",
      "Radius of circle:  5.641895835477563\n",
      "Circumference of circle:  35.449077018110316\n"
     ]
    }
   ],
   "source": [
    "from math import sqrt, pi\n",
    "ar = float(input(\"Enter area of circle: \"))\n",
    "r = sqrt(ar/pi)\n",
    "cf = 2 * pi * r\n",
    "print(\"Radius of circle: \", r)\n",
    "print(\"Circumference of circle: \", cf)"
   ]
  },
  {
   "cell_type": "markdown",
   "metadata": {},
   "source": [
    "## 12. We need to input marks in 5 subjects out of 100 and print percentage."
   ]
  },
  {
   "cell_type": "code",
   "execution_count": 19,
   "metadata": {},
   "outputs": [
    {
     "name": "stdout",
     "output_type": "stream",
     "text": [
      "Enter first subject marks: 78\n",
      "Enter second subject marks: 89\n",
      "Enter third subject marks: 92\n",
      "Enter fourth subject marks: 96\n",
      "Enter fifth subject marks: 85\n",
      "Avarage:  88.0\n"
     ]
    }
   ],
   "source": [
    "mark1 = int(input(\"Enter first subject marks: \"))\n",
    "mark2 = int(input(\"Enter second subject marks: \"))\n",
    "mark3 = int(input(\"Enter third subject marks: \"))\n",
    "mark4 = int(input(\"Enter fourth subject marks: \"))\n",
    "mark5 = int(input(\"Enter fifth subject marks: \"))\n",
    "average = (mark1 + mark2 + mark3 + mark4 + mark5)/5\n",
    "print(\"Average: \", average)"
   ]
  },
  {
   "cell_type": "code",
   "execution_count": null,
   "metadata": {},
   "outputs": [],
   "source": []
  }
 ],
 "metadata": {
  "kernelspec": {
   "display_name": "Python 3",
   "language": "python",
   "name": "python3"
  },
  "language_info": {
   "codemirror_mode": {
    "name": "ipython",
    "version": 3
   },
   "file_extension": ".py",
   "mimetype": "text/x-python",
   "name": "python",
   "nbconvert_exporter": "python",
   "pygments_lexer": "ipython3",
   "version": "3.7.6"
  }
 },
 "nbformat": 4,
 "nbformat_minor": 4
}
