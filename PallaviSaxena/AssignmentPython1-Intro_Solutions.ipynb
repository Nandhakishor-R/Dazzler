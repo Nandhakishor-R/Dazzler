{
 "cells": [
  {
   "cell_type": "markdown",
   "metadata": {},
   "source": [
    "# 1. Predict Output:\n",
    "\n",
    "### s1 = 'Gaurav'\n",
    "### s2 = 'tuteur.py@gmail.com'\n",
    "### print(len(s1), len(S2))"
   ]
  },
  {
   "cell_type": "code",
   "execution_count": 1,
   "metadata": {},
   "outputs": [],
   "source": [
    "# Sol: 5, 19"
   ]
  },
  {
   "cell_type": "markdown",
   "metadata": {},
   "source": [
    "# 2. WAP to input a string  na dprint its length."
   ]
  },
  {
   "cell_type": "code",
   "execution_count": 2,
   "metadata": {},
   "outputs": [
    {
     "name": "stdout",
     "output_type": "stream",
     "text": [
      "Enter any string:dbasjhfkjbgdsfhagkjjbwemdeafwj\n",
      "30\n"
     ]
    }
   ],
   "source": [
    "str1 = input(\"Enter any string:\")\n",
    "print(len(str1))"
   ]
  },
  {
   "cell_type": "markdown",
   "metadata": {},
   "source": [
    "# 3. WAP to input 2 numbers and print their sum and difference."
   ]
  },
  {
   "cell_type": "code",
   "execution_count": 3,
   "metadata": {},
   "outputs": [
    {
     "name": "stdout",
     "output_type": "stream",
     "text": [
      "Enter num1: 7\n",
      "Enter num2: 11\n",
      "Sum:  18\n",
      "Difference:  -4\n"
     ]
    }
   ],
   "source": [
    "num1 = int(input(\"Enter num1: \"))\n",
    "num2 = int(input(\"Enter num2: \"))\n",
    "print(\"Sum: \", num1 + num2)\n",
    "print(\"Difference: \", num1 - num2)"
   ]
  },
  {
   "cell_type": "markdown",
   "metadata": {},
   "source": [
    "# 4. Predict output:\n",
    "### s1 = 'ab'\n",
    "### s2 = 'de'\n",
    "### s3 = s1 + s2\n",
    "### print(s3)"
   ]
  },
  {
   "cell_type": "code",
   "execution_count": 4,
   "metadata": {},
   "outputs": [],
   "source": [
    "# Sol: abde"
   ]
  },
  {
   "cell_type": "markdown",
   "metadata": {},
   "source": [
    "### 5. Same as Q4"
   ]
  },
  {
   "cell_type": "markdown",
   "metadata": {},
   "source": [
    "# 6. Predict output:\n",
    "### s1 = 'ab'*4\n",
    "### print(s1)"
   ]
  },
  {
   "cell_type": "code",
   "execution_count": 5,
   "metadata": {},
   "outputs": [],
   "source": [
    "# Sol: abababab"
   ]
  },
  {
   "cell_type": "markdown",
   "metadata": {},
   "source": [
    "# 7. Predict output:\n",
    "### s1 = 'ab\\n'*4\n",
    "### print(s1)"
   ]
  },
  {
   "cell_type": "code",
   "execution_count": 6,
   "metadata": {},
   "outputs": [
    {
     "data": {
      "text/plain": [
       "'\\nSol:\\nab\\nab\\nab\\nab\\n'"
      ]
     },
     "execution_count": 6,
     "metadata": {},
     "output_type": "execute_result"
    }
   ],
   "source": [
    "\"\"\"\n",
    "Sol:\n",
    "ab\n",
    "ab\n",
    "ab\n",
    "ab\n",
    "\"\"\""
   ]
  },
  {
   "cell_type": "markdown",
   "metadata": {},
   "source": [
    "# 8. WAP to input a string s and a number n. Print the string n times on the screen, each should appear in a separate line (do not use any kind of loops, use the multiplication operator)."
   ]
  },
  {
   "cell_type": "code",
   "execution_count": 7,
   "metadata": {},
   "outputs": [
    {
     "name": "stdout",
     "output_type": "stream",
     "text": [
      "Enter a string: yes\n",
      "Enter a number: 4\n",
      "yes\n",
      "yes\n",
      "yes\n",
      "yes\n",
      "\n"
     ]
    }
   ],
   "source": [
    "str1 = input(\"Enter a string: \")\n",
    "n = int(input(\"Enter a number: \"))\n",
    "print((str1 + \"\\n\")*n)"
   ]
  },
  {
   "cell_type": "markdown",
   "metadata": {},
   "source": [
    "# 9. Predict output:\n",
    "### res = print(\"Gaurav\")\n",
    "### print(res)"
   ]
  },
  {
   "cell_type": "code",
   "execution_count": 8,
   "metadata": {},
   "outputs": [
    {
     "data": {
      "text/plain": [
       "'\\nSol:\\nGaurav\\nNone\\n'"
      ]
     },
     "execution_count": 8,
     "metadata": {},
     "output_type": "execute_result"
    }
   ],
   "source": [
    "\"\"\"\n",
    "Sol:\n",
    "Gaurav\n",
    "None\n",
    "\"\"\""
   ]
  },
  {
   "cell_type": "markdown",
   "metadata": {},
   "source": [
    "# 10. Predict output:\n",
    "### res = len('tuteur.py@gmail.com')\n",
    "### print(type(res))"
   ]
  },
  {
   "cell_type": "code",
   "execution_count": 9,
   "metadata": {},
   "outputs": [],
   "source": [
    "# class 'int'"
   ]
  },
  {
   "cell_type": "markdown",
   "metadata": {},
   "source": [
    "# 11. Predict output:\n",
    "### s1 = 'Gaurav'\n",
    "### s2 = 'tuteur.py@gmail.com'\n",
    "### s3 = s1 + '\\n' + s2\n",
    "### print(type(s3))\n",
    "### print(len(s3))"
   ]
  },
  {
   "cell_type": "code",
   "execution_count": 10,
   "metadata": {},
   "outputs": [
    {
     "data": {
      "text/plain": [
       "\"\\nSol:\\nclass 'str'\\n26\\n\""
      ]
     },
     "execution_count": 10,
     "metadata": {},
     "output_type": "execute_result"
    }
   ],
   "source": [
    "\"\"\"\n",
    "Sol:\n",
    "class 'str'\n",
    "26\n",
    "\"\"\""
   ]
  },
  {
   "cell_type": "markdown",
   "metadata": {},
   "source": [
    "## 12. Find the name of function to find the square root. (see all the options available in dir() of math) "
   ]
  },
  {
   "cell_type": "code",
   "execution_count": 11,
   "metadata": {},
   "outputs": [
    {
     "name": "stdout",
     "output_type": "stream",
     "text": [
      "['__doc__', '__loader__', '__name__', '__package__', '__spec__', 'acos', 'acosh', 'asin', 'asinh', 'atan', 'atan2', 'atanh', 'ceil', 'copysign', 'cos', 'cosh', 'degrees', 'e', 'erf', 'erfc', 'exp', 'expm1', 'fabs', 'factorial', 'floor', 'fmod', 'frexp', 'fsum', 'gamma', 'gcd', 'hypot', 'inf', 'isclose', 'isfinite', 'isinf', 'isnan', 'ldexp', 'lgamma', 'log', 'log10', 'log1p', 'log2', 'modf', 'nan', 'pi', 'pow', 'radians', 'remainder', 'sin', 'sinh', 'sqrt', 'tan', 'tanh', 'tau', 'trunc']\n",
      "Help on built-in function sqrt in module math:\n",
      "\n",
      "sqrt(x, /)\n",
      "    Return the square root of x.\n",
      "\n",
      "None\n",
      "5.0\n"
     ]
    }
   ],
   "source": [
    "import math\n",
    "print(dir(math))\n",
    "print(help(math.sqrt))\n",
    "print(math.sqrt(25))"
   ]
  },
  {
   "cell_type": "markdown",
   "metadata": {},
   "source": [
    "## 13. WAP to input a number and print its square root ()."
   ]
  },
  {
   "cell_type": "code",
   "execution_count": 14,
   "metadata": {},
   "outputs": [
    {
     "name": "stdout",
     "output_type": "stream",
     "text": [
      "Enter a number: 121\n",
      "Square root:  11.0\n"
     ]
    }
   ],
   "source": [
    "num1 = int(input(\"Enter a number: \"))\n",
    "print(\"Square root: \", num1 ** 0.5)"
   ]
  },
  {
   "cell_type": "markdown",
   "metadata": {},
   "source": [
    "## 14. WAP to input 4 numbers from user and print their average"
   ]
  },
  {
   "cell_type": "code",
   "execution_count": 15,
   "metadata": {},
   "outputs": [
    {
     "name": "stdout",
     "output_type": "stream",
     "text": [
      "Enter first number: 11\n",
      "Enter second number: 22\n",
      "Enter third number: 55\n",
      "Enter a number: 99\n",
      "Avarage:  46.75\n"
     ]
    }
   ],
   "source": [
    "num1 = int(input(\"Enter first number: \"))\n",
    "num2 = int(input(\"Enter second number: \"))\n",
    "num3 = int(input(\"Enter third number: \"))\n",
    "num4 = int(input(\"Enter a number: \"))\n",
    "average = (num1 + num2 + num3 + num4)/4\n",
    "print(\"Avarage: \", average)"
   ]
  },
  {
   "cell_type": "markdown",
   "metadata": {},
   "source": [
    "## 15. Use the help function to check what the abs function in python does."
   ]
  },
  {
   "cell_type": "code",
   "execution_count": 16,
   "metadata": {},
   "outputs": [
    {
     "name": "stdout",
     "output_type": "stream",
     "text": [
      "Help on built-in function abs in module builtins:\n",
      "\n",
      "abs(x, /)\n",
      "    Return the absolute value of the argument.\n",
      "\n",
      "1\n",
      "1\n",
      "0\n",
      "9.81\n",
      "9.81\n"
     ]
    }
   ],
   "source": [
    "help(abs)\n",
    "print(abs(1))\n",
    "print(abs(-1))\n",
    "print(abs(-0))\n",
    "print(abs(9.81))\n",
    "print(abs(-9.81))"
   ]
  },
  {
   "cell_type": "markdown",
   "metadata": {},
   "source": [
    "# 16. What is the output of this code when run from python interpreter.\n",
    " print(_ _ name _ _)"
   ]
  },
  {
   "cell_type": "code",
   "execution_count": 17,
   "metadata": {},
   "outputs": [],
   "source": [
    "#__main__"
   ]
  },
  {
   "cell_type": "markdown",
   "metadata": {},
   "source": [
    "# 17. What is the output of this code when run from a python script.\n",
    "### print(__ name __)"
   ]
  },
  {
   "cell_type": "code",
   "execution_count": 18,
   "metadata": {},
   "outputs": [],
   "source": [
    "#__main__"
   ]
  },
  {
   "cell_type": "markdown",
   "metadata": {},
   "source": [
    "## 18. Does the dir of int class contain an attribute __name__ (Y/N)."
   ]
  },
  {
   "cell_type": "code",
   "execution_count": 19,
   "metadata": {},
   "outputs": [
    {
     "data": {
      "text/plain": [
       "False"
      ]
     },
     "execution_count": 19,
     "metadata": {},
     "output_type": "execute_result"
    }
   ],
   "source": [
    "__name__ in dir(int)"
   ]
  },
  {
   "cell_type": "code",
   "execution_count": 20,
   "metadata": {},
   "outputs": [
    {
     "name": "stdout",
     "output_type": "stream",
     "text": [
      "int\n"
     ]
    }
   ],
   "source": [
    "print(int.__name__)"
   ]
  },
  {
   "cell_type": "markdown",
   "metadata": {},
   "source": [
    "# 19. Predict the output of:\n",
    "### print(__ name __)\n",
    "### print(__ builtins __.__ name __)\n",
    "### print(int.__ name __)"
   ]
  },
  {
   "cell_type": "code",
   "execution_count": 21,
   "metadata": {},
   "outputs": [
    {
     "data": {
      "text/plain": [
       "'\\nSol:\\n__main__\\nbuiltins\\nint\\n'"
      ]
     },
     "execution_count": 21,
     "metadata": {},
     "output_type": "execute_result"
    }
   ],
   "source": [
    "\"\"\"\n",
    "Sol:\n",
    "__main__\n",
    "builtins\n",
    "int\n",
    "\"\"\""
   ]
  },
  {
   "cell_type": "code",
   "execution_count": null,
   "metadata": {},
   "outputs": [],
   "source": []
  }
 ],
 "metadata": {
  "kernelspec": {
   "display_name": "Python 3",
   "language": "python",
   "name": "python3"
  },
  "language_info": {
   "codemirror_mode": {
    "name": "ipython",
    "version": 3
   },
   "file_extension": ".py",
   "mimetype": "text/x-python",
   "name": "python",
   "nbconvert_exporter": "python",
   "pygments_lexer": "ipython3",
   "version": "3.7.6"
  }
 },
 "nbformat": 4,
 "nbformat_minor": 4
}
